{
 "cells": [
  {
   "cell_type": "markdown",
   "id": "20a227ab",
   "metadata": {},
   "source": [
    "Data Analytics Mid Bootcamp Project"
   ]
  },
  {
   "cell_type": "markdown",
   "id": "38f12629",
   "metadata": {},
   "source": [
    "Dataset Bollywood"
   ]
  },
  {
   "cell_type": "code",
   "execution_count": 1,
   "id": "c708dacf",
   "metadata": {},
   "outputs": [],
   "source": [
    "# Read the three files into python as dataframes"
   ]
  },
  {
   "cell_type": "code",
   "execution_count": 2,
   "id": "7e4e55c1",
   "metadata": {},
   "outputs": [],
   "source": [
    "import pandas as pd"
   ]
  },
  {
   "cell_type": "code",
   "execution_count": 5,
   "id": "ff8fe5ba",
   "metadata": {},
   "outputs": [
    {
     "name": "stdout",
     "output_type": "stream",
     "text": [
      "['actorId', 'actorName', 'movieCount', 'ratingSum', 'normalizedMovieRank', 'googleHits', 'normalizedGoogleRank', 'normalizedRating']\n",
      "['directorId', 'directorName', 'movieCount', 'ratingSum', 'normalizedMovieRank', 'googleHits', 'normalizedGoogleRank', 'normalizedRating']\n",
      "['imdbId', 'title', 'releaseYear', 'releaseDate', 'genre', 'writers', 'actors', 'directors', 'sequel', 'hitFlop']\n"
     ]
    }
   ],
   "source": [
    "file1 = pd.read_csv('data/BollywoodActorRanking.csv')\n",
    "file2 = pd.read_csv('data/BollywoodDirectorRanking.csv')\n",
    "file3 = pd.read_csv('data/BollywoodMovieDetail.csv')\n",
    "\n",
    "print(list(file1.columns))\n",
    "print(list(file2.columns))\n",
    "print(list(file3.columns))"
   ]
  },
  {
   "cell_type": "code",
   "execution_count": null,
   "id": "ccc818c7",
   "metadata": {},
   "outputs": [],
   "source": []
  }
 ],
 "metadata": {
  "kernelspec": {
   "display_name": "Python 3 (ipykernel)",
   "language": "python",
   "name": "python3"
  },
  "language_info": {
   "codemirror_mode": {
    "name": "ipython",
    "version": 3
   },
   "file_extension": ".py",
   "mimetype": "text/x-python",
   "name": "python",
   "nbconvert_exporter": "python",
   "pygments_lexer": "ipython3",
   "version": "3.9.7"
  }
 },
 "nbformat": 4,
 "nbformat_minor": 5
}
